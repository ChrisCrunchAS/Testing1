{
 "cells": [
  {
   "cell_type": "code",
   "execution_count": 12,
   "metadata": {
    "collapsed": true
   },
   "outputs": [],
   "source": [
    "import numpy as np\n",
    "import pandas as pd\n",
    "import lmdb\n",
    "import caffe"
   ]
  },
  {
   "cell_type": "code",
   "execution_count": 13,
   "metadata": {
    "collapsed": true
   },
   "outputs": [],
   "source": [
    "df = pd.read_hdf('sensormatrix.h5')\n",
    "df2 = pd.read_hdf('referencematrix.h5')\n",
    "X = df.values\n",
    "Y = df2.values"
   ]
  },
  {
   "cell_type": "code",
   "execution_count": 14,
   "metadata": {
    "collapsed": false
   },
   "outputs": [],
   "source": [
    "X_train = X[:,:60000]\n",
    "Y_train = Y[:,:60000]\n",
    "X_test = X[:,60000:]\n",
    "Y_test = Y[:,60000:]\n"
   ]
  },
  {
   "cell_type": "code",
   "execution_count": 15,
   "metadata": {
    "collapsed": true
   },
   "outputs": [],
   "source": [
    "X_train = X_train.astype(int)\n",
    "X_test = X_test.astype(int)\n",
    "Y_train = Y_train.astype(int)\n",
    "Y_test = Y_test.astype(int)"
   ]
  },
  {
   "cell_type": "code",
   "execution_count": 19,
   "metadata": {
    "collapsed": false
   },
   "outputs": [],
   "source": [
    "map_size = X_train.nbytes * 10\n",
    "env = lmdb.open('sensormatrix_train_lmdb', map_size=map_size)\n",
    "with env.begin(write=True) as txn:  \n",
    "    for i in range(60):\n",
    "        for j in range(60000):\n",
    "            datum = caffe.proto.caffe_pb2.Datum()\n",
    "            datum.height = X_train.shape[0]\n",
    "            datum.width = X_train.shape[1]\n",
    "            datum.data = X_train[i,j].tobytes()\n",
    "            datum.label= int(Y_train[i,j])\n",
    "            str_id= '{:08}'.format(i)\n",
    "            "
   ]
  },
  {
   "cell_type": "code",
   "execution_count": 20,
   "metadata": {
    "collapsed": false
   },
   "outputs": [],
   "source": [
    "map_size = X_test.nbytes * 10\n",
    "env = lmdb.open('sensormatrix_test_lmdb', map_size=map_size)\n",
    "with env.begin(write=True) as txn:  \n",
    "    for i in range(60):\n",
    "        for j in range(20921):\n",
    "            datum = caffe.proto.caffe_pb2.Datum()\n",
    "            datum.height = X_test.shape[0]\n",
    "            datum.width = X_test.shape[1]\n",
    "            datum.data = X_test[i,j].tobytes()\n",
    "            datum.label= int(Y_test[i,j])\n",
    "            str_id= '{:08}'.format(i)"
   ]
  },
  {
   "cell_type": "code",
   "execution_count": null,
   "metadata": {
    "collapsed": true
   },
   "outputs": [],
   "source": []
  }
 ],
 "metadata": {
  "kernelspec": {
   "display_name": "Python 2",
   "language": "python",
   "name": "python2"
  },
  "language_info": {
   "codemirror_mode": {
    "name": "ipython",
    "version": 2
   },
   "file_extension": ".py",
   "mimetype": "text/x-python",
   "name": "python",
   "nbconvert_exporter": "python",
   "pygments_lexer": "ipython2",
   "version": "2.7.11"
  }
 },
 "nbformat": 4,
 "nbformat_minor": 0
}
