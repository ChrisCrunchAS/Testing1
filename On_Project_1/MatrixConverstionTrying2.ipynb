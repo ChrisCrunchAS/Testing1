{
 "cells": [
  {
   "cell_type": "code",
   "execution_count": 1,
   "metadata": {
    "collapsed": true
   },
   "outputs": [],
   "source": [
    "import numpy as np\n",
    "import pandas as pd\n",
    "import lmdb\n",
    "import caffe"
   ]
  },
  {
   "cell_type": "code",
   "execution_count": 2,
   "metadata": {
    "collapsed": true
   },
   "outputs": [],
   "source": [
    "df = pd.read_hdf('sensormatrix.h5')\n",
    "df2 = pd.read_hdf('referencematrix.h5')\n",
    "X = df.values\n",
    "Y = df2.values"
   ]
  },
  {
   "cell_type": "code",
   "execution_count": 3,
   "metadata": {
    "collapsed": true
   },
   "outputs": [],
   "source": [
    "X_train = X[:,:60000]\n",
    "Y_train = Y[:,:60000]\n",
    "X_test = X[:,60000:]\n",
    "Y_test = Y[:,60000:]"
   ]
  },
  {
   "cell_type": "code",
   "execution_count": 4,
   "metadata": {
    "collapsed": true
   },
   "outputs": [],
   "source": [
    "X_train = X_train.astype(int)\n",
    "X_test = X_test.astype(int)\n",
    "Y_train = Y_train.astype(int)\n",
    "Y_test = Y_test.astype(int)"
   ]
  },
  {
   "cell_type": "code",
   "execution_count": 9,
   "metadata": {
    "collapsed": false
   },
   "outputs": [],
   "source": [
    "map_size = X.nbytes*10\n",
    "env_x = lmdb.open('sensormatrix_train_x_lmdb_2', map_size=map_size) # you can put map_size a little bigger \n",
    "env_y = lmdb.open('sensormatrix_train_y_lmdb_2', map_size=map_size)\n"
   ]
  },
  {
   "cell_type": "code",
   "execution_count": null,
   "metadata": {
    "collapsed": true
   },
   "outputs": [],
   "source": [
    "with env_x.begin(write=True) as txn_x, env_y.begin(write=True) as txn_y:\n",
    "    for i in xrange(X_train.shape[1]):\n",
    "        x = X_train[:,i]\n",
    "        y = Y_train[:,i] \n",
    "\n",
    "        datum_x = caffe.io.array_to_datum(arr=x.reshape((60,1,1)),label=i)\n",
    "        datum_y = caffe.io.array_to_datum(arr=y.reshape((60,1,1)),label=i)\n",
    "        keystr = '{:0>10d}'.format(i) # format an lmdb key for this entry\n",
    "        txn_x.put( keystr, datum_x.SerializeToString() ) # actual write to lmdb\n",
    "        txn_y.put( keystr, datum_y.SerializeToString() )\n"
   ]
  },
  {
   "cell_type": "code",
   "execution_count": 12,
   "metadata": {
    "collapsed": false
   },
   "outputs": [],
   "source": [
    "map_size = X.nbytes*10\n",
    "envt_x = lmdb.open('sensormatrix_test_x_lmdb_2', map_size=map_size) # you can put map_size a little bigger \n",
    "envt_y = lmdb.open('sensormatrix_test_y_lmdb_2', map_size=map_size)"
   ]
  },
  {
   "cell_type": "code",
   "execution_count": null,
   "metadata": {
    "collapsed": true
   },
   "outputs": [],
   "source": []
  },
  {
   "cell_type": "code",
   "execution_count": 13,
   "metadata": {
    "collapsed": true
   },
   "outputs": [],
   "source": [
    "with envt_x.begin(write=True) as txn_x, envt_y.begin(write=True) as txn_y:\n",
    "    for i in xrange(X_test.shape[1]):\n",
    "        x = X_test[:,i]\n",
    "        y = Y_test[:,i] \n",
    "\n",
    "        datum_x = caffe.io.array_to_datum(arr=x.reshape((60,1,1)),label=i)\n",
    "        datum_y = caffe.io.array_to_datum(arr=y.reshape((60,1,1)),label=i)\n",
    "        keystr = '{:0>10d}'.format(i) # format an lmdb key for this entry\n",
    "        txn_x.put( keystr, datum_x.SerializeToString() ) # actual write to lmdb\n",
    "        txn_y.put( keystr, datum_y.SerializeToString() )\n"
   ]
  },
  {
   "cell_type": "code",
   "execution_count": 7,
   "metadata": {
    "collapsed": true
   },
   "outputs": [],
   "source": [
    "import h5py"
   ]
  },
  {
   "cell_type": "code",
   "execution_count": null,
   "metadata": {
    "collapsed": true
   },
   "outputs": [],
   "source": []
  }
 ],
 "metadata": {
  "kernelspec": {
   "display_name": "Python 2",
   "language": "python",
   "name": "python2"
  },
  "language_info": {
   "codemirror_mode": {
    "name": "ipython",
    "version": 2
   },
   "file_extension": ".py",
   "mimetype": "text/x-python",
   "name": "python",
   "nbconvert_exporter": "python",
   "pygments_lexer": "ipython2",
   "version": "2.7.11"
  }
 },
 "nbformat": 4,
 "nbformat_minor": 0
}
